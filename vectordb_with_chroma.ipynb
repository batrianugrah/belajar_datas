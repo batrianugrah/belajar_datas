{
 "cells": [
  {
   "cell_type": "markdown",
   "id": "738d338b",
   "metadata": {},
   "source": [
    "========================RAG WITH LANGCHAIN=========================="
   ]
  },
  {
   "cell_type": "markdown",
   "id": "a8e769d8",
   "metadata": {},
   "source": [
    "1. IMPORT LIBRARIES"
   ]
  },
  {
   "cell_type": "code",
   "execution_count": null,
   "id": "a9ad18b6",
   "metadata": {
    "vscode": {
     "languageId": "plaintext"
    }
   },
   "outputs": [],
   "source": []
  }
 ],
 "metadata": {
  "language_info": {
   "name": "python"
  }
 },
 "nbformat": 4,
 "nbformat_minor": 5
}
