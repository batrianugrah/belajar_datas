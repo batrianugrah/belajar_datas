{
 "cells": [
  {
   "cell_type": "code",
   "execution_count": 1,
   "id": "60805a0b",
   "metadata": {},
   "outputs": [],
   "source": [
    "from google import genai\n",
    "from google.genai import types\n",
    "from dotenv import load_dotenv\n",
    "from IPython.display import Markdown\n",
    "import os"
   ]
  },
  {
   "cell_type": "code",
   "execution_count": 2,
   "id": "386d4788",
   "metadata": {},
   "outputs": [
    {
     "data": {
      "text/plain": [
       "True"
      ]
     },
     "execution_count": 2,
     "metadata": {},
     "output_type": "execute_result"
    }
   ],
   "source": [
    "load_dotenv()"
   ]
  },
  {
   "cell_type": "code",
   "execution_count": 3,
   "id": "48fed9c5",
   "metadata": {},
   "outputs": [],
   "source": [
    "client = genai.Client(api_key=os.environ.get(\"GEMINI_API_KEY\"))"
   ]
  },
  {
   "cell_type": "markdown",
   "id": "658e84ac",
   "metadata": {},
   "source": [
    "=====================Generate text=========================="
   ]
  },
  {
   "cell_type": "code",
   "execution_count": 4,
   "id": "ae3e284b",
   "metadata": {},
   "outputs": [],
   "source": [
    "response = client.models.generate_content(\n",
    "    model='gemini-2.0-flash-001', contents='Why is the sky blue?'\n",
    ")"
   ]
  },
  {
   "cell_type": "code",
   "execution_count": null,
   "id": "699a832e",
   "metadata": {},
   "outputs": [],
   "source": [
    "print(response.text)"
   ]
  },
  {
   "cell_type": "markdown",
   "id": "d155955f",
   "metadata": {
    "notebookRunGroups": {
     "groupValue": "1"
    }
   },
   "source": [
    "=====================UPLOAD DOKUMEN DAN FILE KE GEMINI======================="
   ]
  },
  {
   "cell_type": "code",
   "execution_count": 7,
   "id": "dbd9c54d",
   "metadata": {},
   "outputs": [
    {
     "data": {
      "text/markdown": [
       "Here's a summary of the file:\n",
       "\n",
       "**Title:** AI-Driven Innovations in Software Engineering: A Review of Current Practices and Future Directions\n",
       "\n",
       "**Overview:** This paper reviews the integration of Artificial Intelligence (AI) into software engineering (SE). It examines how AI technologies are transforming traditional software development, addressing long-standing challenges, and impacting various phases of the software development lifecycle (SDLC). The review aims to identify the benefits, challenges, and future directions of AI in SE.\n",
       "\n",
       "**Key Points:**\n",
       "\n",
       "*   **Transformative Role of AI:**  AI is revolutionizing software engineering through automation, enhanced decision-making, and increased productivity.\n",
       "*   **AI Applications:** The paper explores AI applications in requirements gathering, user story generation, design pattern recognition, intelligent system modeling, AI-assisted code generation, intelligent code completion, test case generation, defect prediction/management, predictive maintenance, and automated monitoring/alert systems.\n",
       "*   **Benefits:** AI integration leads to enhanced productivity, improved code quality, accelerated development cycles, reduced manual errors, and better resource allocation.\n",
       "*   **Challenges:** The review acknowledges challenges such as algorithmic bias, ethical concerns, data quality/availability issues, integration complexities with legacy systems, skill gaps among developers, and potential resistance to change.\n",
       "*   **Case Studies:** The paper presents case studies of organizations like McKinsey, GitHub, IBM, Microsoft, and Google's DeepMind that have successfully integrated AI into their SE practices. The studies highlight productivity gains and improved code quality but also acknowledge challenges like the variable effectiveness of AI and the need for human oversight.\n",
       "*   **Quantitative Analysis:** A survey of software engineering professionals reveals adoption rates of AI tools across the SDLC, perceived benefits, and implementation challenges.\n",
       "*   **Future Directions:** The paper discusses potential future developments such as the convergence of AI with IoT, the need for explainable AI, the development of AI for cybersecurity, and the importance of education and lifelong learning for SE professionals.\n",
       "*   **Importance of Human-AI Collaboration:** The study emphasizes the crucial role of human expertise in contextual understanding, strategic oversight, and ethical considerations. It underscores the need for a balance between automation and human judgment.\n",
       "\n",
       "**Conclusion:** AI is a transformative force in software engineering, offering significant benefits, but its successful integration requires addressing various technical, ethical, and organizational challenges. The future of SE lies in a collaborative partnership between AI and human engineers."
      ],
      "text/plain": [
       "<IPython.core.display.Markdown object>"
      ]
     },
     "execution_count": 7,
     "metadata": {},
     "output_type": "execute_result"
    }
   ],
   "source": [
    "file = client.files.upload(file='ai_driven.pdf')\n",
    "response = client.models.generate_content(\n",
    "    model='gemini-2.0-flash-001',\n",
    "    contents=['Could you summarize this file?', file]\n",
    ")\n",
    "Markdown(response.text)"
   ]
  },
  {
   "cell_type": "markdown",
   "id": "9a528a19",
   "metadata": {},
   "source": [
    "Penggunaan Stream untuk output yang lebih cepat secara parsial"
   ]
  },
  {
   "cell_type": "code",
   "execution_count": 8,
   "id": "63307af9",
   "metadata": {},
   "outputs": [
    {
     "name": "stdout",
     "output_type": "stream",
     "text": [
      "Maya\n",
      "________________________________________________________________________________\n",
      " hated Mondays. This Monday was even worse. She'd woken up late, spilled\n",
      "________________________________________________________________________________\n",
      " orange juice on her only clean shirt, and missed the bus. As she trudged to school\n",
      "________________________________________________________________________________\n",
      ", dejected, she spotted something peculiar glinting beneath a scraggly oak tree.\n",
      "\n",
      "It was a backpack. Not just any backpack. This one was\n",
      "________________________________________________________________________________\n",
      " made of deep emerald velvet, embroidered with constellations that seemed to subtly shift and shimmer in the dappled sunlight. Hesitantly, Maya picked it up. It\n",
      "________________________________________________________________________________\n",
      " felt strangely warm to the touch.\n",
      "\n",
      "Slipping her arm through the strap, she discovered the backpack felt impossibly light, lighter than air itself. She reached inside. It was empty. Well, almost. At the bottom, nestled\n",
      "________________________________________________________________________________\n",
      " against the velvet lining, was a small, intricately carved wooden tag that read: \"Believe.\"\n",
      "\n",
      "Skeptical, but intrigued, Maya continued her walk to school. \"I wish I had an apple,\" she muttered under her breath, her\n",
      "________________________________________________________________________________\n",
      " stomach rumbling.\n",
      "\n",
      "Suddenly, her hand bumped against something. She reached inside the backpack again. An apple, crisp and red, materialized in her hand. Astonished, Maya took a bite. It was the most delicious apple she'd ever tasted.\n",
      "\n",
      "The magic backpack. It was real.\n",
      "\n",
      "Over the next few days\n",
      "________________________________________________________________________________\n",
      ", Maya experimented with her newfound treasure. She wished for a notebook for art class, and it appeared, perfectly bound with thick, creamy pages. She wished for a pen that never ran out of ink, and it appeared, a sleek, silver instrument that glided across the page.\n",
      "\n",
      "The backpack became Maya's secret\n",
      "________________________________________________________________________________\n",
      ". It boosted her confidence. She aced her math test thanks to a perfectly crafted calculator that could solve any problem. She impressed her art teacher with a set of vibrant watercolors that seemed to shimmer with light.\n",
      "\n",
      "But with each successful wish, a nagging feeling grew within Maya. It felt… unfair. While she was getting everything she\n",
      "________________________________________________________________________________\n",
      " wanted, others were struggling. Her best friend, Leo, was desperately trying to earn money for new art supplies. A classmate, Sarah, was falling behind in math.\n",
      "\n",
      "One afternoon, Leo confided in Maya about his struggle to buy the paints he needed for the upcoming art competition. Without thinking, Maya reached into her backpack.\n",
      "________________________________________________________________________________\n",
      " A set of oil paints, richer and more vibrant than any she had ever seen, appeared. She handed them to Leo.\n",
      "\n",
      "\"Here,\" she said, \"these were extra. I thought you might like them.\"\n",
      "\n",
      "Leo's face lit up. \"Maya, these are incredible! Thank you!\"\n",
      "\n",
      "Seeing\n",
      "________________________________________________________________________________\n",
      " his joy, Maya felt a different kind of satisfaction, a deeper, warmer feeling than anything the backpack had given her before.\n",
      "\n",
      "Over the next few days, Maya started using the backpack not for her own benefit, but to help others. She wished for tutoring sessions for Sarah, and a quiet corner appeared in the library,\n",
      "________________________________________________________________________________\n",
      " magically stocked with helpful resources. She wished for ingredients to bake cookies for the elderly in the neighborhood. She even wished for a replacement for the bus driver's broken thermos.\n",
      "\n",
      "With each act of kindness, the backpack seemed to grow lighter, the constellations on its surface shining brighter. But one day, she noticed something else\n",
      "________________________________________________________________________________\n",
      ". The velvet, once a deep emerald, was starting to fade. The magic was dwindling.\n",
      "\n",
      "One rainy afternoon, she sat under the oak tree where she had found the backpack, tears welling in her eyes. She understood now. The backpack wasn't about getting what she wanted; it was about believing in the power of\n",
      "________________________________________________________________________________\n",
      " kindness and using that power to help others.\n",
      "\n",
      "She reached into the backpack one last time. This time, she didn't wish for anything material. She wished for the backpack to find someone who needed it more than she did, someone who would use its magic to spread joy and compassion.\n",
      "\n",
      "The backpack shimmered, then faded\n",
      "________________________________________________________________________________\n",
      ", dissolving into thin air. Maya felt a pang of sadness, but also a profound sense of peace. The magic was gone, but the lesson remained. She didn't need a magic backpack to make a difference. She just needed to believe.\n",
      "\n",
      "The next day, she saw a new kid, shy and awkward, sitting\n",
      "________________________________________________________________________________\n",
      " alone during lunch. Maya walked over and introduced herself. She didn't have a magic backpack, but she had something even better: a kind heart, and the belief that she could make the world a little brighter, one act of kindness at a time. And that, she realized, was the most powerful magic of all.\n",
      "________________________________________________________________________________\n",
      "\n",
      "\n",
      "________________________________________________________________________________\n"
     ]
    }
   ],
   "source": [
    "client = genai.Client()\n",
    "response = client.models.generate_content_stream(\n",
    "    model=\"gemini-2.0-flash\", contents=\"Write a story about a magic backpack.\"\n",
    ")\n",
    "for chunk in response:\n",
    "    print(chunk.text)\n",
    "    print(\"_\" * 80)"
   ]
  },
  {
   "cell_type": "markdown",
   "id": "3c0acfc1",
   "metadata": {},
   "source": [
    "=====================BACA TEXT DARI GAMBAR=========================="
   ]
  },
  {
   "cell_type": "code",
   "execution_count": 5,
   "id": "c96bfb7e",
   "metadata": {},
   "outputs": [
    {
     "name": "stdout",
     "output_type": "stream",
     "text": [
      "This image is an official **Award Certificate (Piagam Penghargaan)** issued by a correctional institution under the Indonesian Ministry of Law and Human Rights (Kementerian Hukum dan Hak Asasi Manusia, or Kemenkumham).\n",
      "\n",
      "Here's a detailed breakdown:\n",
      "\n",
      "1.  **Title and Identification:**\n",
      "    *   **PIAGAM PENGHARGAAN:** This translates to \"Award Certificate\" or \"Certificate of Appreciation.\"\n",
      "    *   **NOMOR : W4-PAS.3.IM.01.01-2644:** This is a unique identification number for the certificate, likely indicating its regional office (W4), department (PAS for Pemasyarakatan/Corrections), and specific series.\n",
      "\n",
      "2.  **Issuing Authority Logos:**\n",
      "    *   **Left Logo:** The official logo of the Indonesian Ministry of Law and Human Rights' Directorate General of Corrections, often featuring a stylized gate or arch and the word \"PENGAYOMAN\" (meaning protection, guardianship, or sheltering).\n",
      "    *   **Right Logo:** A logo for \"REVOLUSI DIGITAL KEMENKUMHAM\" (Digital Revolution Ministry of Law and Human Rights), featuring a dove carrying scales, symbolizing justice and progress, set against the backdrop of a digital initiative.\n",
      "\n",
      "3.  **Recipient Information:**\n",
      "    *   **DIBERIKAN KEPADA :** (Awarded to:)\n",
      "    *   **dr. Yvonne Felicita Yosami:** The name of the recipient, with \"dr.\" indicating she is a medical doctor.\n",
      "\n",
      "4.  **Reason for Award:**\n",
      "    *   **Sebagai Pegawai Teladan Dalam Pencegahan Covid-19:** (As an Exemplary Employee in Covid-19 Prevention).\n",
      "    *   **Pada Lembaga Pemasyarakatan Kelas IIA Bengkalis:** (At the Class IIA Correctional Institution of Bengkalis).\n",
      "    *   This clearly states that Dr. Yvonne Felicita Yosami is being recognized for her exemplary efforts in preventing Covid-19 within the Bengkalis Class IIA Correctional Institution.\n",
      "\n",
      "5.  **Date and Signatory:**\n",
      "    *   **Bengkalis, 27 Oktober 2020:** The place and date of issuance (Bengkalis, 27 October 2020).\n",
      "    *   **Kepala Lembaga Pemasyarakatan Kelas IIA Bengkalis:** (Head of the Class IIA Correctional Institution of Bengkalis). This identifies the position of the person signing the certificate.\n",
      "    *   **Signature:** A handwritten signature.\n",
      "    *   **Edi Mulyono, A.md.IP., S.Sos., S.H., M.H.:** The name and academic/professional titles of the signatory. These titles indicate a high level of education and expertise: Associate Expert in Penitentiary Affairs, Bachelor of Social Sciences, Bachelor of Law, and Master of Humanities.\n",
      "    *   **NIP. 19730101 199803 1 001:** The signatory's NIP (Nomor Induk Pegawai), which is the employee identification number for civil servants in Indonesia.\n",
      "\n",
      "6.  **Design Elements:**\n",
      "    *   The certificate features a professional and modern design with geometric shapes in dark blue, teal, and white, giving it a clean and official aesthetic.\n",
      "\n",
      "In summary, this is a formal certificate from the Indonesian Ministry of Law and Human Rights, specifically the Correctional Institution of Bengkalis, acknowledging Dr. Yvonne Felicita Yosami as an exemplary employee for her contributions to Covid-19 prevention, signed by the Head of the institution, Edi Mulyono, on October 27, 2020.\n"
     ]
    }
   ],
   "source": [
    "from google import genai\n",
    "from PIL import Image\n",
    "\n",
    "client = genai.Client()\n",
    "\n",
    "image = Image.open(\"gambar.png\")\n",
    "\n",
    "response = client.models.generate_content(\n",
    "  model='gemini-2.5-flash',\n",
    "  contents=[image, \"explain that image\"],\n",
    ")\n",
    "\n",
    "print(response.text) # The output often is markdown"
   ]
  },
  {
   "cell_type": "markdown",
   "id": "da8dcb7e",
   "metadata": {},
   "source": [
    "=============================BUATKAN TABLE DARI RESPONSE GAMBAR DIATAS=========================="
   ]
  },
  {
   "cell_type": "code",
   "execution_count": 6,
   "id": "2b7bc41c",
   "metadata": {},
   "outputs": [
    {
     "name": "stdout",
     "output_type": "stream",
     "text": [
      "Tentu, berikut adalah tabel dari informasi yang terdapat pada gambar Piagam Penghargaan tersebut:\n",
      "\n",
      "| Keterangan                  | Detail                                                             |\n",
      "| :-------------------------- | :----------------------------------------------------------------- |\n",
      "| **Jenis Dokumen**           | Piagam Penghargaan                                                 |\n",
      "| **Nomor Dokumen**           | W4-PAS.3.IM.01.01-2644                                             |\n",
      "| **Diberikan Kepada**        | dr. Yvonne Felicita Yosami                                         |\n",
      "| **Sebagai**                 | Pegawai Teladan Dalam Pencegahan Covid-19 Pada Lembaga Pemasyarakatan Kelas IIA Bengkalis |\n",
      "| **Lokasi Penerbitan**       | Bengkalis                                                          |\n",
      "| **Tanggal Penerbitan**      | 27 Oktober 2020                                                    |\n",
      "| **Jabatan Penanda Tangan**  | Kepala Lembaga Pemasyarakatan Kelas IIA Bengkalis                  |\n",
      "| **Nama Penanda Tangan**     | Edi Mulyono, A.md.IP., S.Sos., S.H., M.H.                          |\n",
      "| **NIP Penanda Tangan**      | 19730101 199803 1 001                                              |\n"
     ]
    }
   ],
   "source": [
    "prompt = 'buatkan table dari response gambar diatas'\n",
    "response = client.models.generate_content(\n",
    "  model='gemini-2.5-flash',\n",
    "  contents=[image, prompt],\n",
    ")\n",
    "print(response.text) # The output often is markdown"
   ]
  }
 ],
 "metadata": {
  "kernelspec": {
   "display_name": "venv (3.13.5)",
   "language": "python",
   "name": "python3"
  },
  "language_info": {
   "codemirror_mode": {
    "name": "ipython",
    "version": 3
   },
   "file_extension": ".py",
   "mimetype": "text/x-python",
   "name": "python",
   "nbconvert_exporter": "python",
   "pygments_lexer": "ipython3",
   "version": "3.13.5"
  }
 },
 "nbformat": 4,
 "nbformat_minor": 5
}
